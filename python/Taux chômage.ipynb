{
 "cells": [
  {
   "cell_type": "code",
   "execution_count": 1,
   "metadata": {},
   "outputs": [],
   "source": [
    "import pandas as pd"
   ]
  },
  {
   "cell_type": "code",
   "execution_count": 2,
   "metadata": {},
   "outputs": [],
   "source": [
    "#Lecture du fichier avec sélection de la 2ème feuille et saut des 5 premières lignes\n",
    "data = pd.read_excel('chomage_zone.xls', sheet_name=1, header=0, skiprows=[0,1,2,3,4])"
   ]
  },
  {
   "cell_type": "code",
   "execution_count": 3,
   "metadata": {},
   "outputs": [
    {
     "name": "stdout",
     "output_type": "stream",
     "text": [
      "<bound method NDFrame.head of                                                 ZE2010           LIBZE2010  \\\n",
      "0                                                 0050      Mont-de-Marsan   \n",
      "1                                                 0051             Alençon   \n",
      "2                                                 0052       Cosne-Clamecy   \n",
      "3                                                 0053               Mâcon   \n",
      "4                                                 0054    Nogent-le-Rotrou   \n",
      "..                                                 ...                 ...   \n",
      "300                                               9404              Bastia   \n",
      "301                                               9405  Calvi-L'Île-Rousse   \n",
      "302                                               9406               Corte   \n",
      "303                                               9407  Ghisonaccia-Aléria   \n",
      "304  Source : Insee, Estimations de taux de chômage...                 NaN   \n",
      "\n",
      "      REG         LIBREG  2003-T1  2003-T2  2003-T3  2003-T4  2004-T1  \\\n",
      "0     0.0  interrégional      6.0      6.1      6.0      6.3      6.4   \n",
      "1     0.0  interrégional      7.2      7.5      7.2      7.6      7.7   \n",
      "2     0.0  interrégional      7.5      7.6      7.4      7.8      8.0   \n",
      "3     0.0  interrégional      5.3      5.3      5.2      5.3      5.4   \n",
      "4     0.0  interrégional      5.9      6.3      6.4      7.0      7.3   \n",
      "..    ...            ...      ...      ...      ...      ...      ...   \n",
      "300  94.0          Corse      9.2      8.9      8.9      9.3      9.4   \n",
      "301  94.0          Corse     11.7     11.4     11.2     11.4     11.2   \n",
      "302  94.0          Corse      8.3      7.6      8.2      8.1      8.0   \n",
      "303  94.0          Corse      9.6      8.8      9.0      9.4      9.6   \n",
      "304   NaN            NaN      NaN      NaN      NaN      NaN      NaN   \n",
      "\n",
      "     2004-T2  ...  2017-T4  2018-T1  2018-T2  2018-T3  2018-T4  2019-T1  \\\n",
      "0        6.2  ...      7.3      7.4      7.1      7.0      6.7      6.8   \n",
      "1        7.4  ...      8.3      8.6      8.4      8.4      8.1      8.1   \n",
      "2        7.7  ...      8.1      8.3      8.1      7.9      7.5      7.5   \n",
      "3        5.4  ...      6.4      6.5      6.5      6.4      6.3      6.4   \n",
      "4        7.2  ...      8.1      8.3      8.1      8.0      7.9      7.9   \n",
      "..       ...  ...      ...      ...      ...      ...      ...      ...   \n",
      "300      9.3  ...      9.7     10.1      9.7      9.4      9.2      9.2   \n",
      "301     11.5  ...     11.6     12.5     12.2     11.9     11.4     11.6   \n",
      "302      8.0  ...      8.5      8.9      8.9      8.6      7.8      8.2   \n",
      "303      9.7  ...     10.0     10.6     10.4     10.1      9.9     10.0   \n",
      "304      NaN  ...      NaN      NaN      NaN      NaN      NaN      NaN   \n",
      "\n",
      "     2019-T2  2019-T3  2019-T4  2020-T1  \n",
      "0        6.7      6.7      6.5      6.1  \n",
      "1        7.9      7.9      7.8      7.4  \n",
      "2        7.2      7.4      7.2      6.8  \n",
      "3        6.3      6.3      6.1      5.9  \n",
      "4        7.8      8.0      7.4      7.1  \n",
      "..       ...      ...      ...      ...  \n",
      "300      8.8      8.5      8.2      7.9  \n",
      "301     11.0     10.8     10.5     10.1  \n",
      "302      7.6      7.3      7.1      7.3  \n",
      "303      9.4      9.4      9.0      8.6  \n",
      "304      NaN      NaN      NaN      NaN  \n",
      "\n",
      "[305 rows x 73 columns]>\n"
     ]
    }
   ],
   "source": [
    "print(data.head)"
   ]
  },
  {
   "cell_type": "code",
   "execution_count": 4,
   "metadata": {},
   "outputs": [
    {
     "name": "stdout",
     "output_type": "stream",
     "text": [
      "Index(['ZE2010', 'LIBZE2010', 'REG', 'LIBREG', '2003-T1', '2003-T2', '2003-T3',\n",
      "       '2003-T4', '2004-T1', '2004-T2', '2004-T3', '2004-T4', '2005-T1',\n",
      "       '2005-T2', '2005-T3', '2005-T4', '2006-T1', '2006-T2', '2006-T3',\n",
      "       '2006-T4', '2007-T1', '2007-T2', '2007-T3', '2007-T4', '2008-T1',\n",
      "       '2008-T2', '2008-T3', '2008-T4', '2009-T1', '2009-T2', '2009-T3',\n",
      "       '2009-T4', '2010-T1', '2010-T2', '2010-T3', '2010-T4', '2011-T1',\n",
      "       '2011-T2', '2011-T3', '2011-T4', '2012-T1', '2012-T2', '2012-T3',\n",
      "       '2012-T4', '2013-T1', '2013-T2', '2013-T3', '2013-T4', '2014-T1',\n",
      "       '2014-T2', '2014-T3', '2014-T4', '2015-T1', '2015-T2', '2015-T3',\n",
      "       '2015-T4', '2016-T1', '2016-T2', '2016-T3', '2016-T4', '2017-T1',\n",
      "       '2017-T2', '2017-T3', '2017-T4', '2018-T1', '2018-T2', '2018-T3',\n",
      "       '2018-T4', '2019-T1', '2019-T2', '2019-T3', '2019-T4', '2020-T1'],\n",
      "      dtype='object')\n"
     ]
    }
   ],
   "source": [
    "print(data.columns)"
   ]
  },
  {
   "cell_type": "code",
   "execution_count": 5,
   "metadata": {},
   "outputs": [
    {
     "data": {
      "text/plain": [
       "Auvergne-Rhône-Alpes          35\n",
       "Grand-Est                     31\n",
       "Nouvelle-Aquitaine            31\n",
       "Occitanie                     30\n",
       "Hauts-de-France               26\n",
       "Bourgogne-Franche-Comté       23\n",
       "Normandie                     20\n",
       "Pays de la Loire              19\n",
       "Ile-de-France                 19\n",
       "Centre-Val-de-Loire           19\n",
       "Bretagne                      18\n",
       "Provence-Alpes-Côte d'Azur    17\n",
       "interrégional                  9\n",
       "Corse                          7\n",
       "Name: LIBREG, dtype: int64"
      ]
     },
     "execution_count": 5,
     "metadata": {},
     "output_type": "execute_result"
    }
   ],
   "source": [
    "#Nombre de zones d'emploi par région\n",
    "index = pd.Series(data['LIBREG'])\n",
    "index.value_counts()"
   ]
  },
  {
   "cell_type": "code",
   "execution_count": 6,
   "metadata": {},
   "outputs": [
    {
     "name": "stdout",
     "output_type": "stream",
     "text": [
      "    ZE2010                 LIBZE2010   REG                      LIBREG  \\\n",
      "280   9301           Digne-les-Bains  93.0  Provence-Alpes-Côte d'Azur   \n",
      "281   9302                  Manosque  93.0  Provence-Alpes-Côte d'Azur   \n",
      "282   9303                  Briançon  93.0  Provence-Alpes-Côte d'Azur   \n",
      "283   9304                       Gap  93.0  Provence-Alpes-Côte d'Azur   \n",
      "284   9305            Cannes-Antibes  93.0  Provence-Alpes-Côte d'Azur   \n",
      "285   9306  Menton Vallée de la Roya  93.0  Provence-Alpes-Côte d'Azur   \n",
      "286   9307                      Nice  93.0  Provence-Alpes-Côte d'Azur   \n",
      "287   9308           Aix-en-Provence  93.0  Provence-Alpes-Côte d'Azur   \n",
      "288   9309                     Arles  93.0  Provence-Alpes-Côte d'Azur   \n",
      "289   9310         Marseille-Aubagne  93.0  Provence-Alpes-Côte d'Azur   \n",
      "290   9311          Istres-Martigues  93.0  Provence-Alpes-Côte d'Azur   \n",
      "291   9312         Salon-de-Provence  93.0  Provence-Alpes-Côte d'Azur   \n",
      "292   9313                Draguignan  93.0  Provence-Alpes-Côte d'Azur   \n",
      "293   9314      Fréjus-Saint Raphaël  93.0  Provence-Alpes-Côte d'Azur   \n",
      "294   9315                    Toulon  93.0  Provence-Alpes-Côte d'Azur   \n",
      "295   9316             Cavaillon-Apt  93.0  Provence-Alpes-Côte d'Azur   \n",
      "296   9317                    Orange  93.0  Provence-Alpes-Côte d'Azur   \n",
      "\n",
      "     2003-T1  2003-T2  2003-T3  2003-T4  2004-T1  2004-T2  ...  2017-T4  \\\n",
      "280      7.5      7.6      7.2      7.6      7.7      7.5  ...     10.7   \n",
      "281     10.0     10.1      9.8      9.8      9.9      9.7  ...     11.2   \n",
      "282      7.0      7.1      7.0      7.4      7.4      7.4  ...      8.2   \n",
      "283      7.0      7.0      6.9      7.1      7.3      7.1  ...      8.2   \n",
      "284      9.5      9.7      9.4      9.5      9.5      9.3  ...      9.8   \n",
      "285      6.8      6.9      6.7      6.9      6.9      6.7  ...      8.3   \n",
      "286      8.1      8.1      8.0      8.3      8.3      8.1  ...      9.6   \n",
      "287      9.2      9.4      9.2      9.3      9.4      9.0  ...      8.4   \n",
      "288     11.1     11.4     11.1     11.4     11.5     11.0  ...     12.4   \n",
      "289     11.6     11.8     11.4     11.6     11.7     11.3  ...     11.5   \n",
      "290     10.3     10.5     10.3     10.5     10.5     10.2  ...     10.8   \n",
      "291     10.7     10.8     10.4     10.6     10.7     10.3  ...     10.4   \n",
      "292     11.4     11.4     11.2     11.4     11.3     11.1  ...     11.6   \n",
      "293     10.0     10.1     10.1     10.6     10.9     11.0  ...     11.7   \n",
      "294     10.6     10.6     10.3     10.5     10.6     10.4  ...      9.5   \n",
      "295      9.3      9.2      8.9      9.1      9.1      9.0  ...     11.9   \n",
      "296      9.7      9.6      9.2      9.3      9.4      9.3  ...     12.0   \n",
      "\n",
      "     2018-T1  2018-T2  2018-T3  2018-T4  2019-T1  2019-T2  2019-T3  2019-T4  \\\n",
      "280     11.0     10.7     10.6     10.4     10.3     10.0      9.8      9.4   \n",
      "281     11.6     11.4     11.1     10.9     11.0     10.6     10.5     10.0   \n",
      "282      8.4      8.3      8.4      8.2      8.3      8.3      8.0      7.9   \n",
      "283      8.3      8.3      8.2      8.0      8.0      7.7      7.5      7.2   \n",
      "284     10.1      9.9      9.7      9.5      9.5      9.1      9.1      8.7   \n",
      "285      8.4      8.1      7.8      7.6      7.6      7.3      7.2      6.9   \n",
      "286      9.8      9.6      9.5      9.2      9.2      8.9      8.9      8.4   \n",
      "287      8.6      8.5      8.3      8.1      8.0      7.7      7.7      7.3   \n",
      "288     12.5     12.5     12.3     11.7     11.8     11.4     11.4     11.0   \n",
      "289     11.9     11.7     11.6     11.2     11.2     10.8     10.7     10.3   \n",
      "290     11.1     10.8     10.7     10.2     10.3     10.1      9.9      9.6   \n",
      "291     10.6     10.4     10.3     10.0     10.0      9.7      9.5      9.1   \n",
      "292     12.0     11.8     11.5     11.2     11.2     10.9     10.8     10.2   \n",
      "293     12.2     11.9     11.7     11.5     11.5     11.1     11.0     10.5   \n",
      "294      9.7      9.6      9.5      9.3      9.3      8.9      8.8      8.4   \n",
      "295     12.1     11.9     11.8     11.4     11.7     11.2     11.2     10.7   \n",
      "296     12.2     12.1     12.0     11.7     11.6     11.3     11.2     10.5   \n",
      "\n",
      "     2020-T1  \n",
      "280      9.1  \n",
      "281      9.6  \n",
      "282      7.5  \n",
      "283      7.0  \n",
      "284      8.5  \n",
      "285      6.7  \n",
      "286      8.2  \n",
      "287      7.0  \n",
      "288     10.7  \n",
      "289      9.9  \n",
      "290      9.2  \n",
      "291      8.7  \n",
      "292      9.8  \n",
      "293     10.3  \n",
      "294      8.1  \n",
      "295     10.3  \n",
      "296     10.1  \n",
      "\n",
      "[17 rows x 73 columns]\n"
     ]
    }
   ],
   "source": [
    "#Filtre sur la région PACA\n",
    "data2 = data.loc[data['LIBREG']==\"Provence-Alpes-Côte d'Azur\"]\n",
    "print(data2)"
   ]
  },
  {
   "cell_type": "code",
   "execution_count": 7,
   "metadata": {},
   "outputs": [
    {
     "name": "stdout",
     "output_type": "stream",
     "text": [
      "Provence-Alpes-Côte d'Azur    17\n",
      "Name: LIBREG, dtype: int64\n",
      "17\n"
     ]
    }
   ],
   "source": [
    "#Nombre de zones d'emploi en PACA\n",
    "index2 = pd.Series(data2['LIBREG'])\n",
    "print(index2.value_counts())\n",
    "#Autre possibilité\n",
    "print(index.value_counts()[\"Provence-Alpes-Côte d'Azur\"])"
   ]
  },
  {
   "cell_type": "code",
   "execution_count": 8,
   "metadata": {},
   "outputs": [
    {
     "name": "stdout",
     "output_type": "stream",
     "text": [
      "0      False\n",
      "1       True\n",
      "2      False\n",
      "3      False\n",
      "4      False\n",
      "       ...  \n",
      "300     True\n",
      "301     True\n",
      "302     True\n",
      "303     True\n",
      "304    False\n",
      "Name: 2020-T1, Length: 305, dtype: bool\n",
      "     booleen\n",
      "0      False\n",
      "1       True\n",
      "2      False\n",
      "3      False\n",
      "4      False\n",
      "..       ...\n",
      "300     True\n",
      "301     True\n",
      "302     True\n",
      "303     True\n",
      "304    False\n",
      "\n",
      "[305 rows x 1 columns]\n"
     ]
    }
   ],
   "source": [
    "#Autre possibilité\n",
    "data_t1_2020 = data['2020-T1'] > 7.1\n",
    "data_t1_2019 = data['2019-T1'] > 7.1\n",
    "data_t1_2018 = data['2018-T1'] > 7.1\n",
    "data_7_1 = data_t1_2020 & data_t1_2019 & data_t1_2018\n",
    "\n",
    "#Taux de chômage pour le 1er trimestre par année\n",
    "T20 = data['2020-T1']\n",
    "T19 = data['2019-T1']\n",
    "T18 = data['2018-T1']\n",
    "data_t1_2020 = pd.eval('T20 > 7.1')\n",
    "data_t1_2019 = pd.eval('T19 > 7.1')\n",
    "data_t1_2018 = pd.eval('T18 > 7.1')\n",
    "data_7_1 = pd.DataFrame(pd.eval('data_t1_2020 & data_t1_2019 & data_t1_2018'), columns=['booleen'])\n",
    "\n",
    "print(data_t1_2020)\n",
    "\n",
    "print(data_7_1)"
   ]
  },
  {
   "cell_type": "code",
   "execution_count": 9,
   "metadata": {},
   "outputs": [
    {
     "name": "stdout",
     "output_type": "stream",
     "text": [
      "True     163\n",
      "False    142\n",
      "Name: booleen, dtype: int64\n"
     ]
    }
   ],
   "source": [
    "index3 = pd.Series(data_7_1['booleen'])\n",
    "print(index3.value_counts())"
   ]
  },
  {
   "cell_type": "code",
   "execution_count": 10,
   "metadata": {},
   "outputs": [
    {
     "name": "stdout",
     "output_type": "stream",
     "text": [
      "<bound method NDFrame.head of     Code                     Libellé  Pôle emploi 2018\n",
      "0      1                  Guadeloupe                17\n",
      "1      2                  Martinique                11\n",
      "2      3                      Guyane                 8\n",
      "3      4                  La Réunion                17\n",
      "4      6                     Mayotte                 3\n",
      "5     11               Île-de-France               164\n",
      "6     24         Centre-Val de Loire               116\n",
      "7     27     Bourgogne-Franche-Comté               165\n",
      "8     28                   Normandie               145\n",
      "9     32             Hauts-de-France               171\n",
      "10    44                   Grand Est               238\n",
      "11    52            Pays de la Loire               104\n",
      "12    53                    Bretagne                91\n",
      "13    75          Nouvelle-Aquitaine               251\n",
      "14    76                   Occitanie               262\n",
      "15    84        Auvergne-Rhône-Alpes               294\n",
      "16    93  Provence-Alpes-Côte d'Azur               145\n",
      "17    94                       Corse                31>\n"
     ]
    }
   ],
   "source": [
    "p_emploi = pd.read_excel('pole_emploi.xlsx', sheet_name=0, header=0, skiprows=[0,1,2])\n",
    "print(p_emploi.head)"
   ]
  },
  {
   "cell_type": "code",
   "execution_count": 11,
   "metadata": {},
   "outputs": [
    {
     "name": "stdout",
     "output_type": "stream",
     "text": [
      "    ZE2010           LIBZE2010   REG                LIBREG  2003-T1  2003-T2  \\\n",
      "0    0060*       Saint-Étienne  84.0  Auvergne-Rhône-Alpes      8.0      8.2   \n",
      "1     8201   Ambérieu-en-Bugey  84.0  Auvergne-Rhône-Alpes      5.7      5.8   \n",
      "2     8202     Bourg-en-Bresse  84.0  Auvergne-Rhône-Alpes      4.5      4.7   \n",
      "3     8203             Oyonnax  84.0  Auvergne-Rhône-Alpes      6.8      6.9   \n",
      "4     8204             Annonay  84.0  Auvergne-Rhône-Alpes      7.6      8.0   \n",
      "..     ...                 ...   ...                   ...      ...      ...   \n",
      "290   9403   Sartène-Propriano  94.0                 Corse     10.7     10.7   \n",
      "291   9404              Bastia  94.0                 Corse      9.2      8.9   \n",
      "292   9405  Calvi-L'Île-Rousse  94.0                 Corse     11.7     11.4   \n",
      "293   9406               Corte  94.0                 Corse      8.3      7.6   \n",
      "294   9407  Ghisonaccia-Aléria  94.0                 Corse      9.6      8.8   \n",
      "\n",
      "     2003-T3  2003-T4  2004-T1  2004-T2  ...  2018-T3  2018-T4  2019-T1  \\\n",
      "0        8.1      8.4      8.6      8.3  ...      8.7      8.3      8.4   \n",
      "1        5.6      6.0      6.2      6.0  ...      6.6      6.2      6.2   \n",
      "2        4.6      4.8      4.9      4.9  ...      6.7      6.4      6.4   \n",
      "3        7.2      7.7      7.8      7.5  ...      7.9      7.6      7.6   \n",
      "4        8.0      8.1      8.1      7.8  ...      8.6      8.2      8.2   \n",
      "..       ...      ...      ...      ...  ...      ...      ...      ...   \n",
      "290     10.4     10.0     10.5     10.4  ...     10.0     10.1     10.0   \n",
      "291      8.9      9.3      9.4      9.3  ...      9.4      9.2      9.2   \n",
      "292     11.2     11.4     11.2     11.5  ...     11.9     11.4     11.6   \n",
      "293      8.2      8.1      8.0      8.0  ...      8.6      7.8      8.2   \n",
      "294      9.0      9.4      9.6      9.7  ...     10.1      9.9     10.0   \n",
      "\n",
      "     2019-T2  2019-T3  2019-T4  2020-T1  Code               Libellé  \\\n",
      "0        8.1      8.3      8.0      7.7    84  Auvergne-Rhône-Alpes   \n",
      "1        6.1      6.3      6.0      5.8    84  Auvergne-Rhône-Alpes   \n",
      "2        6.3      6.5      6.2      5.9    84  Auvergne-Rhône-Alpes   \n",
      "3        7.4      7.4      7.3      7.2    84  Auvergne-Rhône-Alpes   \n",
      "4        7.9      7.9      7.7      7.3    84  Auvergne-Rhône-Alpes   \n",
      "..       ...      ...      ...      ...   ...                   ...   \n",
      "290      9.5      9.6      9.5      9.4    94                 Corse   \n",
      "291      8.8      8.5      8.2      7.9    94                 Corse   \n",
      "292     11.0     10.8     10.5     10.1    94                 Corse   \n",
      "293      7.6      7.3      7.1      7.3    94                 Corse   \n",
      "294      9.4      9.4      9.0      8.6    94                 Corse   \n",
      "\n",
      "     Pôle emploi 2018  \n",
      "0                 294  \n",
      "1                 294  \n",
      "2                 294  \n",
      "3                 294  \n",
      "4                 294  \n",
      "..                ...  \n",
      "290                31  \n",
      "291                31  \n",
      "292                31  \n",
      "293                31  \n",
      "294                31  \n",
      "\n",
      "[295 rows x 76 columns]\n"
     ]
    }
   ],
   "source": [
    "#Jonction des 2 jeux de données\n",
    "p_emploi = pd.merge(data, p_emploi, how='inner', left_on=\"REG\", right_on=\"Code\")\n",
    "print(p_emploi)"
   ]
  },
  {
   "cell_type": "code",
   "execution_count": 12,
   "metadata": {},
   "outputs": [
    {
     "name": "stdout",
     "output_type": "stream",
     "text": [
      "    ZE2010           LIBZE2010   REG                LIBREG  2003-T1  2003-T2  \\\n",
      "0    0060*       Saint-Étienne  84.0  Auvergne-Rhône-Alpes      8.0      8.2   \n",
      "1     8201   Ambérieu-en-Bugey  84.0  Auvergne-Rhône-Alpes      5.7      5.8   \n",
      "2     8202     Bourg-en-Bresse  84.0  Auvergne-Rhône-Alpes      4.5      4.7   \n",
      "3     8203             Oyonnax  84.0  Auvergne-Rhône-Alpes      6.8      6.9   \n",
      "4     8204             Annonay  84.0  Auvergne-Rhône-Alpes      7.6      8.0   \n",
      "..     ...                 ...   ...                   ...      ...      ...   \n",
      "290   9403   Sartène-Propriano  94.0                 Corse     10.7     10.7   \n",
      "291   9404              Bastia  94.0                 Corse      9.2      8.9   \n",
      "292   9405  Calvi-L'Île-Rousse  94.0                 Corse     11.7     11.4   \n",
      "293   9406               Corte  94.0                 Corse      8.3      7.6   \n",
      "294   9407  Ghisonaccia-Aléria  94.0                 Corse      9.6      8.8   \n",
      "\n",
      "     2003-T3  2003-T4  2004-T1  2004-T2  ...  2018-T4  2019-T1  2019-T2  \\\n",
      "0        8.1      8.4      8.6      8.3  ...      8.3      8.4      8.1   \n",
      "1        5.6      6.0      6.2      6.0  ...      6.2      6.2      6.1   \n",
      "2        4.6      4.8      4.9      4.9  ...      6.4      6.4      6.3   \n",
      "3        7.2      7.7      7.8      7.5  ...      7.6      7.6      7.4   \n",
      "4        8.0      8.1      8.1      7.8  ...      8.2      8.2      7.9   \n",
      "..       ...      ...      ...      ...  ...      ...      ...      ...   \n",
      "290     10.4     10.0     10.5     10.4  ...     10.1     10.0      9.5   \n",
      "291      8.9      9.3      9.4      9.3  ...      9.2      9.2      8.8   \n",
      "292     11.2     11.4     11.2     11.5  ...     11.4     11.6     11.0   \n",
      "293      8.2      8.1      8.0      8.0  ...      7.8      8.2      7.6   \n",
      "294      9.0      9.4      9.6      9.7  ...      9.9     10.0      9.4   \n",
      "\n",
      "     2019-T3  2019-T4  2020-T1  Code               Libellé  Pôle emploi 2018  \\\n",
      "0        8.3      8.0      7.7    84  Auvergne-Rhône-Alpes               294   \n",
      "1        6.3      6.0      5.8    84  Auvergne-Rhône-Alpes               294   \n",
      "2        6.5      6.2      5.9    84  Auvergne-Rhône-Alpes               294   \n",
      "3        7.4      7.3      7.2    84  Auvergne-Rhône-Alpes               294   \n",
      "4        7.9      7.7      7.3    84  Auvergne-Rhône-Alpes               294   \n",
      "..       ...      ...      ...   ...                   ...               ...   \n",
      "290      9.6      9.5      9.4    94                 Corse                31   \n",
      "291      8.5      8.2      7.9    94                 Corse                31   \n",
      "292     10.8     10.5     10.1    94                 Corse                31   \n",
      "293      7.3      7.1      7.3    94                 Corse                31   \n",
      "294      9.4      9.0      8.6    94                 Corse                31   \n",
      "\n",
      "     quantile  \n",
      "0        q100  \n",
      "1        q100  \n",
      "2        q100  \n",
      "3        q100  \n",
      "4        q100  \n",
      "..        ...  \n",
      "290       q25  \n",
      "291       q25  \n",
      "292       q25  \n",
      "293       q25  \n",
      "294       q25  \n",
      "\n",
      "[295 rows x 77 columns]\n"
     ]
    }
   ],
   "source": [
    "#Création colonne quantile\n",
    "p_emploi['quantile'] = pd.qcut(p_emploi['Pôle emploi 2018'], 4, labels=['q25', 'q50', 'q75', 'q100'])\n",
    "print(p_emploi)"
   ]
  },
  {
   "cell_type": "code",
   "execution_count": 13,
   "metadata": {},
   "outputs": [
    {
     "name": "stdout",
     "output_type": "stream",
     "text": [
      "                             2020-T1                              \n",
      "quantile                         q25       q50       q75      q100\n",
      "LIBREG                                                            \n",
      "Auvergne-Rhône-Alpes             NaN       NaN       NaN  6.728571\n",
      "Bourgogne-Franche-Comté          NaN  6.565217       NaN       NaN\n",
      "Bretagne                    6.661111       NaN       NaN       NaN\n",
      "Centre-Val-de-Loire         7.684211       NaN       NaN       NaN\n",
      "Corse                       8.514286       NaN       NaN       NaN\n",
      "Grand-Est                        NaN       NaN  7.264516       NaN\n",
      "Hauts-de-France                  NaN  9.911538       NaN       NaN\n",
      "Ile-de-France                    NaN  6.794737       NaN       NaN\n",
      "Normandie                   7.150000       NaN       NaN       NaN\n",
      "Nouvelle-Aquitaine               NaN       NaN  7.293548       NaN\n",
      "Occitanie                        NaN       NaN       NaN  9.603333\n",
      "Pays de la Loire            6.563158       NaN       NaN       NaN\n",
      "Provence-Alpes-Côte d'Azur  8.864706       NaN       NaN       NaN\n"
     ]
    }
   ],
   "source": [
    "#Table pivot pour la moyenne du taux de chômage du trimestre 1 de l’année 2020 par régions et par quantile\n",
    "print(pd.pivot_table(p_emploi, index=['LIBREG'], columns=['quantile'], values=['2020-T1']))"
   ]
  },
  {
   "cell_type": "code",
   "execution_count": null,
   "metadata": {},
   "outputs": [],
   "source": []
  },
  {
   "cell_type": "code",
   "execution_count": null,
   "metadata": {},
   "outputs": [],
   "source": []
  }
 ],
 "metadata": {
  "kernelspec": {
   "display_name": "Python 3",
   "language": "python",
   "name": "python3"
  },
  "language_info": {
   "codemirror_mode": {
    "name": "ipython",
    "version": 3
   },
   "file_extension": ".py",
   "mimetype": "text/x-python",
   "name": "python",
   "nbconvert_exporter": "python",
   "pygments_lexer": "ipython3",
   "version": "3.7.7"
  }
 },
 "nbformat": 4,
 "nbformat_minor": 4
}
