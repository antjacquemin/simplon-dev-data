{
 "cells": [
  {
   "cell_type": "code",
   "execution_count": 2,
   "metadata": {},
   "outputs": [
    {
     "name": "stdout",
     "output_type": "stream",
     "text": [
      "Indiquez la hauteur10\n",
      "Indiquez le rayon10\n",
      "Le cône de hauteur 10 et de rayon 10 a un volume de 1047.1975511965977\n"
     ]
    }
   ],
   "source": [
    "from math import pi\n",
    "h = int(input(\"Indiquez la hauteur : \"))\n",
    "r = int(input(\"Indiquez le rayon : \"))\n",
    "print(\"Le cône de hauteur\", h, \"et de rayon\", r, \"a un volume de\", pi*r**2*h/3)"
   ]
  },
  {
   "cell_type": "code",
   "execution_count": 1,
   "metadata": {},
   "outputs": [
    {
     "name": "stdout",
     "output_type": "stream",
     "text": [
      "Indiquez un nombre : 2\n",
      "Ce nombre est pair\n"
     ]
    }
   ],
   "source": [
    "nombre = int(input(\"Indiquez un nombre : \"))\n",
    "if nombre % 2 == 0:\n",
    "    print(\"Ce nombre est pair\")\n",
    "else:\n",
    "    print(\"Ce nombre est impair\")"
   ]
  },
  {
   "cell_type": "code",
   "execution_count": 8,
   "metadata": {},
   "outputs": [
    {
     "name": "stdout",
     "output_type": "stream",
     "text": [
      "Indiquez la longueur du premier côté du triange : 3\n",
      "Indiquez la longueur du second côté du triange : 5\n",
      "Indiquez la longueur du troisième côté du triange : 4\n",
      "Le triangle est rectangle\n"
     ]
    }
   ],
   "source": [
    "c1 = int(input(\"Indiquez la longueur du premier côté du triange : \"))\n",
    "c2 = int(input(\"Indiquez la longueur du second côté du triange : \")) \n",
    "c3 = int(input(\"Indiquez la longueur du troisième côté du triange : \"))\n",
    "hyp = max(c1, c2, c3)\n",
    "adj = [c1, c2, c3]\n",
    "adj.remove(hyp)\n",
    "carre = 0\n",
    "for c in adj:\n",
    "    carre += c**2\n",
    "if carre == hyp**2:\n",
    "    print(\"Le triangle est rectangle\")\n",
    "else:\n",
    "    print(\"Le triangle n'est pas rectangle\")"
   ]
  },
  {
   "cell_type": "code",
   "execution_count": 16,
   "metadata": {},
   "outputs": [
    {
     "name": "stdout",
     "output_type": "stream",
     "text": [
      "Indiquez un prix hors taxe : 10\n",
      "Le prix TTC est 12.0\n",
      "Indiquez un prix hors taxe : 0\n"
     ]
    }
   ],
   "source": [
    "c = int(input(\"Indiquez un prix hors taxe : \"))\n",
    "while(c != 0):\n",
    "    print(\"Le prix TTC est\", c * 1.2)\n",
    "    c = int(input(\"Indiquez un prix hors taxe : \"))"
   ]
  },
  {
   "cell_type": "code",
   "execution_count": 12,
   "metadata": {},
   "outputs": [
    {
     "name": "stdout",
     "output_type": "stream",
     "text": [
      "[1, 2, 3, 4, 5, 7, 8, 9]\n"
     ]
    }
   ],
   "source": [
    "L1 = [2, 3, 1, 5, 7, 1]\n",
    "L2 = [8, 5, 9, 4, 1, 1, 5]\n",
    "L3 = list(set(L1)|set(L2))\n",
    "print(L3)"
   ]
  },
  {
   "cell_type": "code",
   "execution_count": 15,
   "metadata": {},
   "outputs": [
    {
     "name": "stdout",
     "output_type": "stream",
     "text": [
      "True\n"
     ]
    }
   ],
   "source": [
    "def palindrome(l):\n",
    "    return l == l[::-1]\n",
    "\n",
    "print(palindrome([1, 2, 3, 4, 3, 2, 1]))"
   ]
  },
  {
   "cell_type": "code",
   "execution_count": 17,
   "metadata": {},
   "outputs": [
    {
     "name": "stdout",
     "output_type": "stream",
     "text": [
      "Liste initiale\n",
      "['Bayet Davy', 'Beuil Alexandre', 'Bouazza Nedra', 'Boubaker Samy', 'Bouharaoui Tarek', 'Cancian Hadrien', 'Clave Lukas', 'Deleage Lucas', 'Djerfi Souad', 'El Majdoub Chourouk', 'Fernandes Stéphane', 'Fratani Karen', 'Jacquemin Anthony', 'Lesoeur Raphael', 'Marais Anthony', 'Moreau Jonathan', 'Paul Debolina', 'Pawtowski Wilfried', 'Pelliccioli Luca', 'Ramanitrarivo Niry', 'Vidon Elodie', 'Wathelet Florent']\n",
      "Nouvelle liste\n",
      "1 Deleage Lucas\n",
      "2 Beuil Alexandre\n",
      "3 Vidon Elodie\n",
      "4 Bayet Davy\n",
      "5 Pawtowski Wilfried\n",
      "6 Djerfi Souad\n",
      "7 Marais Anthony\n",
      "8 Lesoeur Raphael\n",
      "9 Clave Lukas\n",
      "10 Boubaker Samy\n",
      "11 Wathelet Florent\n",
      "12 Cancian Hadrien\n",
      "13 Moreau Jonathan\n",
      "14 Paul Debolina\n",
      "15 Fratani Karen\n",
      "16 Bouazza Nedra\n",
      "17 Pelliccioli Luca\n",
      "18 Jacquemin Anthony\n",
      "19 El Majdoub Chourouk\n",
      "20 Fernandes Stéphane\n",
      "21 Bouharaoui Tarek\n",
      "22 Ramanitrarivo Niry\n"
     ]
    }
   ],
   "source": [
    "import random\n",
    "listNames = [\"Bayet Davy\",\"Beuil Alexandre\",\"Bouazza Nedra\",\"Boubaker Samy\",\"Bouharaoui Tarek\",\"Cancian Hadrien\",\"Clave Lukas\",\"Deleage Lucas\",\"Djerfi Souad\",\"El Majdoub Chourouk\",\"Fernandes Stéphane\",\"Fratani Karen\",\"Jacquemin Anthony\",\"Lesoeur Raphael\",\"Marais Anthony\",\"Moreau Jonathan\",\"Paul Debolina\",\"Pawtowski Wilfried\",\"Pelliccioli Luca\",\"Ramanitrarivo Niry\",\"Vidon Elodie\",\"Wathelet Florent\"]\n",
    "newList = []\n",
    "print(\"Liste initiale\")\n",
    "print (listNames)\n",
    "while listNames != []:\n",
    "    nom = listNames[random.randint(0,len(listNames)-1)]\n",
    "    newList.insert(0,nom)\n",
    "    listNames.remove(nom)\n",
    "print(\"Nouvelle liste\")    \n",
    "for i in range(len(newList)):\n",
    "    print(i+1, newList[i]);"
   ]
  },
  {
   "cell_type": "code",
   "execution_count": 20,
   "metadata": {},
   "outputs": [
    {
     "name": "stdout",
     "output_type": "stream",
     "text": [
      "1 Jacquemin Anthony\n",
      "2 Bouharaoui Tarek\n",
      "3 Fernandes Stéphane\n",
      "4 Djerfi Souad\n",
      "5 Marais Anthony\n",
      "6 Pelliccioli Luca\n",
      "7 Boubaker Samy\n",
      "8 Ramanitrarivo Niry\n",
      "9 Clave Lukas\n",
      "10 Lesoeur Raphael\n",
      "11 Bouazza Nedra\n",
      "12 Wathelet Florent\n",
      "13 Pawtowski Wilfried\n",
      "14 Bayet Davy\n",
      "15 Deleage Lucas\n",
      "16 Cancian Hadrien\n",
      "17 Moreau Jonathan\n",
      "18 Paul Debolina\n",
      "19 El Majdoub Chourouk\n",
      "20 Beuil Alexandre\n",
      "21 Vidon Elodie\n",
      "22 Fratani Karen\n"
     ]
    }
   ],
   "source": [
    "import random\n",
    "listNames = [\"Bayet Davy\",\"Beuil Alexandre\",\"Bouazza Nedra\",\"Boubaker Samy\",\"Bouharaoui Tarek\",\"Cancian Hadrien\",\"Clave Lukas\",\"Deleage Lucas\",\"Djerfi Souad\",\"El Majdoub Chourouk\",\"Fernandes Stéphane\",\"Fratani Karen\",\"Jacquemin Anthony\",\"Lesoeur Raphael\",\"Marais Anthony\",\"Moreau Jonathan\",\"Paul Debolina\",\"Pawtowski Wilfried\",\"Pelliccioli Luca\",\"Ramanitrarivo Niry\",\"Vidon Elodie\",\"Wathelet Florent\"]\n",
    "random.shuffle(listNames)  \n",
    "for i in range(len(listNames)):\n",
    "    print(i+1, listNames[i]);"
   ]
  },
  {
   "cell_type": "code",
   "execution_count": null,
   "metadata": {},
   "outputs": [],
   "source": []
  }
 ],
 "metadata": {
  "kernelspec": {
   "display_name": "Python 3",
   "language": "python",
   "name": "python3"
  },
  "language_info": {
   "codemirror_mode": {
    "name": "ipython",
    "version": 3
   },
   "file_extension": ".py",
   "mimetype": "text/x-python",
   "name": "python",
   "nbconvert_exporter": "python",
   "pygments_lexer": "ipython3",
   "version": "3.7.7"
  }
 },
 "nbformat": 4,
 "nbformat_minor": 4
}
