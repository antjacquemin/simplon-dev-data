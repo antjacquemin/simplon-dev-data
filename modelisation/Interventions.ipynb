{
 "cells": [
  {
   "cell_type": "markdown",
   "metadata": {},
   "source": [
    "# Modélisation d'une base de données pour les données du SDIS\n",
    "\n",
    "On s'appuie sur le jeu de données Open Data suivant :\n",
    "\n",
    "https://www.data.gouv.fr/fr/datasets/interventions-realisees-par-les-services-d-incendie-et-de-secours/\n",
    "\n",
    "On souhaite établir un modèle similaire pour enregistrer des interventions autres que celles du SDIS. On ne souhaite pas repartir de zéro mais on n'a pas accès à la documentation établie lorsque l'application a été conçue.\n",
    "\n",
    "Travail à faire:\n",
    "- Créer le dictionnaire des données\n",
    "- Créer le Modèle Conceptuel de Données\n",
    "- Concevoir le Modèle Logique de Données\n",
    "- Concevoir le Modèle Relationnel des Données\n",
    "\n",
    "(La base de données décrite doit être en 3NF)"
   ]
  },
  {
   "cell_type": "markdown",
   "metadata": {},
   "source": [
    "# 0) Description des informations contenues dans le jeu de données\n",
    "| Nom | Type | Descriptif |\n",
    "|----------|---------------|-------|\n",
    "| annee | entier(4) | Année de l'intervention |\n",
    "| zone | chaîne de caractères(20) | Zone géographique du service d'intervention (Sud, Sud-Est, IdF...)  |\n",
    "| region | chaîne de caractères(30) | Région du service d'intervention |\n",
    "| numero | chaîne de caractères(5) | Numéro du département dont dépend le SDIS (Service d'Incendie et de Secours) ou acronyme pour les corps militaires BMPM (Bataillon de Marins-Pompiers de Marseille) et BSPP (Brigade de Sapeurs-Pompiers de Paris) |\n",
    "| departement | chaîne de caractères(30) | Département du service d'intervention |\n",
    "| categorie | entier(1) | Catégorie (1 à 5) pour classer les SDIS (dépend de la population, des contributions, de l'effectif...) |\n",
    "| nbFeuxHabitationsBureaux | chaîne de caractères(5) | Nombre de feux d'habitations et de bureaux |\n",
    "| nbFeuxCheminees | chaîne de caractères(50) | Nombre de feux de cheminées (compris dans le nombre de feux d'habitations et de bureaux) |\n",
    "| nbFeuxERPAvecLocal | entier(10) | Nombre de feux d'ERP (Etablissements Recevant du Public) avec local à sommeil |\n",
    "| nbFeuxERPSansLocal | entier(10) | Nombre de feux d'ERP sans local à sommeil |\n",
    "| nbFeuxLocauxIndustriels | entier(10) | Nombre de feux de locaux industriels |\n",
    "| nbFeuxLocauxArtisanaux | entier(10) | Nombre de feux de locaux artisanaux |\n",
    "| nbFeuxLocauxAgricoles | entier(10) | Nombre de feux de locaux agricoles |\n",
    "| nbFeuxVoiePublique | entier(10) | Nombre de feux sur la voie publique |\n",
    "| nbFeuxVehicules | entier(10) | Nombre de feux de véhicules |\n",
    "| nbFeuxVegetations | entier(10) | Nombre de feux de végétations |\n",
    "| nbAutresFeux | entier(10) | Nombre de feux divers (autres que les feux stipulés au-dessus) |\n",
    "| nbIncendies | entier(10) | Nombre total d'incendies (nbFeuxHabitationsBureaux + nbFeuxERPAvecLocal + nbFeuxERPSansLocal + nbFeuxLocauxIndustriels + nbFeuxLocauxArtisanaux + nbFeuxLocauxAgricoles + nbFeuxVoiePublique + nbFeuxVehicules + nbFeuxVegetations + nbAutresFeux) |\n",
    "| nbAccidentsLieuxTravail | entier(10) | Nombre d'accidents sur les lieux de travail |\n",
    "| nbAccidentsDomicile | entier(10) | Nombre d'accidents à domicile |\n",
    "| nbAccidentsSport | entier(10) | Nombre d'accidents de sport |\n",
    "| nbAccidentsVoiePublique | entier(10) | Nombre d'accidents sur la voie publique |\n",
    "| nbSecoursMontagne | entier(10) | Nombre de secours en montagne |\n",
    "| nbMalaisesLieuxTravail | entier(10) | Nombre de malaises sur les lieux de travail |\n",
    "| nbMalaisesDomicileUrgenceVitale | entier(10) | Nombre de malaises à domicile relevant de l'urgence vitale |\n",
    "| nbMalaisesDomicileCarence | entier(10) | Nombre de malaises à domicile relevant de la carence |\n",
    "| nbMalaisesSport | entier(10) | Nombre de malaises en sport |\n",
    "| nbMalaisesVoiePublique | entier(10) | Nombre de malaises sur la voie publique |\n",
    "| nbAutolyses | entier(10) | Nombre d'autolyses (suicides) |\n",
    "| nbSecoursPiscinesEauxInterieures | entier(10) | Nombre de secours en piscines ou eaux intérieures |\n",
    "| nbSecoursMer | entier(10) | Nombre de secours en mer relevant de la FDSM |\n",
    "| nbIntoxications | entier(10) | Nombre d'intoxications |\n",
    "| nbIntoxicationsCO | entier(10) | Nombre d'intoxications au CO (compris dans le nombre d'intoxications) |\n",
    "| nbAutresSAV | entier(10) | Nombre de SAV (Secours et Assistance aux Victimes) autres que ceux stipulés |\n",
    "| nbSecoursVictimes | entier(10) | Nombre total de secours à victime (nbAccidentsLieuxTravail + nbAccidentsDomicile + nbAccidentsSport + nbAccidentsVoiePublique + nbSecoursMontagne + nbMalaisesLieuxTravail + nbMalaisesDomicileUrgenceVitale + nbMalaisesDomicileCarence + nbMalaisesSport + nbMalaisesVoiePublique + nbAutolyses + nbSecoursPiscinesEauxInterieures + nbSecoursMer + nbIntoxications + nbAutresSAV) |\n",
    "| nbRelevagesPersonnes | entier(10) | Nombre de relevages de personnes |\n",
    "| nbRecherchesPersonnes | entier(10) | Nombre de recherches de personnes |\n",
    "| nbAidesPersonnes | entier(10) | Nombre total d'aides à la personne (nbRelevagesPersonnes + nbRecherchesPersonnes) |\n",
    "| nbSecoursPersonnes | entier(10) | Nombre total de secours à la personne (nbSecoursVictimes + nbAidesPersonnes) |\n",
    "| nbAccidentsRoutiers | entier(10) | Nombre d'accidents routiers |\n",
    "| nbAccidentsFerroviaires | entier(10) | Nombre d'accidents ferroviaires |\n",
    "| nbAccidentsAeriens | entier(10) | Nombre d'accidents aériens |\n",
    "| nbAccidentsNavigation | entier(10) | Nombre d'accidents de navigation |\n",
    "| nbAccidentsTeleportage | entier(10) | Nombre d'accidents de téléportage |\n",
    "| nbAccidentsCirculation | entier(10) | Nombre total d'accidents de circulation (nbAccidentsRoutiers + nbAccidentsFerroviaires + nbAccidentsAeriens + nbAccidentsNavigation + nbAccidentsTeleportage) |\n",
    "| nbOdeursFuitesGaz | entier(10) | Nombre d'interventions pour odeurs et fuites de gaz |\n",
    "| nbOdeursAutres | entier(10) | Nombre d'interventions pour odeurs autres que gaz |\n",
    "| nbFaitsElectricite | entier(10) | Nombre de faits dûs à l'électricité |\n",
    "| nbPollutionsContaminations | entier(10) | Nombre de pollutions et contaminations |\n",
    "| nbAutresRisques | entier(10) | Nombre d'interventions pour d'autres risques technologiques |\n",
    "| nbRisquesTechnologiques | entier(10) | Nombre total d'interventions pour risques technologiques (nbIncendies + nbOdeursFuitesGaz + nbOdeursAutres + nbFaitsElectricite + nbPollutionsContaminations + nbAutresRisques) |\n",
    "| nbFuitesEau | entier(10) | Nombre de fuites d'eau |\n",
    "| nbInondations | entier(10) | Nombre d'inondations |\n",
    "| nbOuverturesPortes | entier(10) | Nombre d'ouvertures de portes |\n",
    "| nbRecherchesObjets | entier(10) | Nombre de recherches d'objets |\n",
    "| nbBruitsSuspects | entier(10) | Nombre d'interventions pour bruits suspects |\n",
    "| nbProtectionBiens | entier(10) | Nombre total d'interventions relevant de la protection des biens (nbFuitesEau + nbInondations + nbOuverturesPortes + nbRecherchesObjets + nbBruitsSuspects) |\n",
    "| nbFaussesAlertes | entier(10) | Nombre de fausses alertes |\n",
    "| nbFaussesAlertesDAAF | entier(10) | Nombre de fausses alertes DAAF (Détecteur et Avertisseur Autonome de Fumée) (compris dans le nombre de fausses alertes)|\n",
    "| nbFaitsAnimaux | entier(10) | Nombre d'intervention du fait d'animaux hors hyménoptères (abeilles, guêpes, frelons...) |\n",
    "| nbFaitsHymenopteres | entier(10) | Nombre d'intervention du fait d'hyménoptères |\n",
    "| nbDegagementsVoiePublique | entier(10) | Nombre de dégagements de voies publiques |\n",
    "| nbNettoyagesVoiePublique | entier(10) | Nombre de nettoyages de voies publiques |\n",
    "| nbEboulements | entier(10) | Nombre d'éboulements |\n",
    "| nbDeposesObjets | entier(10) | Nombre de déposes d'objets |\n",
    "| nbPiquetsSecuriteSurveillances | entier(10) | Nombre d'interventions pour des piquets de sécurité et des surveillances |\n",
    "| nbEnginsExplosifs | entier(10) | Nombre d'engins explosifs |\n",
    "| nbAutresOperations | entier(10) | Nombre d'autres opérations que celles citées |\n",
    "| nbDivers | entier(10) | Nombre total d'interventions qui n'ont pas pu être classées dans les familles d'opération précédentes (nbFaussesAlertes + nbFaitsAnimaux + nbFaitsHymenopteres + nbDegagementsVoiePublique + nbNettoyagesVoiePublique + nbEboulements + nbDeposesObjets + nbPiquetsSecuriteSurveillances + nbEnginsExplosifs + nbAutresOperations) |\n",
    "| nbOperationsDiverses | entier(10) | Nombre total d'opérations diverses relevant de la protection des biens et du divers(nbProtectionBiens + nbDivers) |\n",
    "| nbTotalInterventions | entier(10) | Nombre total dinterventions (nbIncendies + nbSecoursPersonnes + nbAccidentsCirculation + nbRisquesTechnologiques + nbOperationsDiverses) |\n"
   ]
  },
  {
   "cell_type": "markdown",
   "metadata": {},
   "source": [
    "# 1) Dictionnaire des données\n",
    "| Nom | Type | Descriptif |\n",
    "|----------|---------------|-------|\n",
    "| nomService | chaîne de caractères(50) | Nom du service d'intervention |\n",
    "| codeService | chaîne de caractères(4) | Code identifiant le service d'intervention (Numéro du département dont dépend le SDIS ou acronyme pour les corps militaires BMPM et BSPP) |\n",
    "| departementService | chaîne de caractères(3) | Département où est installé le service d'intervention (n° de département pour chaque SDIS, 13 pour la BMPM, 75 pour la BSPP) |\n",
    "| categorieService | chaîne de caractères(1) | Catégorie pour classer les SDIS |\n",
    "| nomPompier | chaîne de caractères(50) | Nom du pompier |\n",
    "| prenomPompier | chaîne de caractères(50) | Prénom du pompier |\n",
    "| adressePompier | chaîne de caractères(200) | Adresse du pompier |\n",
    "| codePostalPompier | chaîne de caractères(5) | Code postal du pompier |\n",
    "| villePompier | chaîne de caractères(50) | Ville du pompier |\n",
    "| telephonePompier | chaîne de caractères(10) | Numéro de téléphone du pompier |\n",
    "| emailPompier | chaîne de caractères(50) | E-mail du pompier |\n",
    "| gradePompier | chaîne de caractères(20) | Grade du pompier |\n",
    "| typeIntervention | chaîne de caractères(50) | Type d'intervention (Feu d'habitation ou de bureau avec cheminée, Feu d'habitation ou de bureau sans cheminée, Feu d'ERP avec local à sommeil, Feu d'ERP sans local à sommeil, Feu de local industriel, Feu de local artisanal, Feu de local agricole, Feu sur la voie publique, Feu de végétation, Autre feu, Accident sur lieu de travail, Accident à domicile, Accident de sport, Accident sur la voie publique, Secours en montagne, Malaise sur lieu de travail, Malaise à domicile relevant de l'urgence vitale, Malaise à domicile relevant de la carence, Malaise en sport, Malaise sur la voie publique, Autolyse, Secours en piscine ou eau intérieure, Secours en mer, Intoxication au CO, Intoxication autre que CO, Autre SAV, Relevage personne, Recherche personne, Accident routier, Accident ferroviaire, Accident aérien, Accident de navigation, Accident de téléportage, Intervention pour odeur et fuite de gaz, Intervention pour odeur autre que gaz, Fait dû à l'électricité, Pollution ou contamination, Autre risque, Fuite d'eau, Inondation, Ouverture de porte, Recherche d'objet, Intervention pour bruit suspect, Fausse alerte due à un DAAF, Fausse alerte non due à un DAAF, Intervention du fait d'animaux hors hyménoptères, Intervention du fait d'hyménoptères, Dégagement voie publique, Nettoyage voie publique, Eboulement, Dépose d'objet, Intervention pour des piquets de sécurité ou des surveillances, Intervention pour engin explosif, Autre opération) |\n",
    "| natureIntervention | chaîne de caractères(30) | Nature de l'intervention (Incendie, Secours à victime, Aide à personne, Accident de circulation, Risque technologique, Protection de biens et Divers) |\n",
    "| dateIntervention | date | Date de l'intervention |\n",
    "| adresseIntervention | chaîne de caractères(200) | Adresse de l'intervention |\n",
    "| codePostalIntervention | chaîne de caractères(3) | Code postal où a eu lieu l'intervention |\n",
    "| villeIntervention | chaîne de caractères(50) | Ville où a eu lieu l'intervention |\n",
    "| dureeIntervention | décimal | Durée de l'intervention (en homme.heure) |\n",
    "| nomVictime | chaîne de caractères(50) | Nom de la victime |\n",
    "| prenomVictime | chaîne de caractères(50) | Prénom de la victime |\n",
    "| adresseVictime | chaîne de caractères(200) | Adresse de la victime |\n",
    "| codePostalVictime | chaîne de caractères(3) | Code postal de la victime |\n",
    "| villeVictime | chaîne de caractères(50) | Ville de la victime |\n",
    "| telephoneVictime | chaîne de caractères(10) | Numéro de téléphone de la victime |\n",
    "| emailVictime | chaîne de caractères(50) | E-mail de la victime |\n",
    "| etatSanteVictime | chaîne de caractères(50) | Etat de santé de la victime (Décédé, Victime urgence absolue, Victime urgence relative, Impliqué - Sans traumatisme mais pris en charge)  |"
   ]
  },
  {
   "cell_type": "markdown",
   "metadata": {},
   "source": [
    "# Règles métier\n",
    "- Les sapeurs-pompiers blessés dans le cadre de leurs interventionsne sont pas inclus dans les personnes secourues ou aidées\n",
    "- Une même personne est considérée comme une victime différente à chaque intervention la concernant (son état de santé pouvant être différent à chaque fois)\n"
   ]
  },
  {
   "cell_type": "markdown",
   "metadata": {},
   "source": [
    "# 2) Modèle conceptuel des données\n",
    "![InterventionsSimplifie2.png](https://github.com/antjacquemin/modelisation/blob/master/InterventionsSimplifie2.png?raw=true)"
   ]
  },
  {
   "cell_type": "markdown",
   "metadata": {},
   "source": [
    "# 3) Modèle logique des données\n",
    "![InterventionsSimplifie3.png](https://github.com/antjacquemin/modelisation/blob/master/InterventionsSimplifie3.png?raw=true)"
   ]
  },
  {
   "cell_type": "markdown",
   "metadata": {},
   "source": [
    "# 4) Modèle relationnel des données\n",
    "\n",
    "Pompier(<ins>PO_id</ins>, PO_nom, PO_prenom, PO_adresse, PO_codepostal, PO_ville, PO_telephone, PO_email, PO_grade, #SE_code)\n",
    "\n",
    "Service(<ins>SE_code</ins>, SE_nom, SE_departement, SE_categorie)\n",
    "\n",
    "Mobilisation(<ins>#SE_code</ins>, <ins>#IN_id</ins>)\n",
    "\n",
    "Intervention(<ins>IN_id</ins>, IN_date, IN_adresse, IN_codepostal, IN_ville, IN_duree, #TI_id)\n",
    "\n",
    "TypeIntervention(<ins>TI_id</ins>, TI_type, #FI_id)\n",
    "\n",
    "FamilleIntervention(<ins>FI_id</ins>, FI_nature)\n",
    "\n",
    "Victime(<ins>VI_id</ins>, VI_nom, VI_prenom, VI_adresse, VI_codepostal, VI_ville, VI_telephone, VI_email, #IN_id, #ES_id)\n",
    "\n",
    "EtatSante(<ins>ES_id</ins>, ES_etat)"
   ]
  },
  {
   "cell_type": "code",
   "execution_count": null,
   "metadata": {},
   "outputs": [],
   "source": []
  }
 ],
 "metadata": {
  "kernelspec": {
   "display_name": "Python 3",
   "language": "python",
   "name": "python3"
  },
  "language_info": {
   "codemirror_mode": {
    "name": "ipython",
    "version": 3
   },
   "file_extension": ".py",
   "mimetype": "text/x-python",
   "name": "python",
   "nbconvert_exporter": "python",
   "pygments_lexer": "ipython3",
   "version": "3.7.7"
  }
 },
 "nbformat": 4,
 "nbformat_minor": 4
}
