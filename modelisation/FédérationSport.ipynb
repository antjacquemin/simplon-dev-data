{
 "cells": [
  {
   "cell_type": "markdown",
   "metadata": {},
   "source": [
    "# Modélisation d'une base de données pour une fédération de sport\n",
    "\n",
    "Les fédérations de sport proposant des compétitions composées de plusieurs sports ou épreuves, comme le biathlon, triathlon ou décathlon, ont demandé d’analyser et de développer un logiciel générique pouvant gérer l’organisation de leurs compétitions. \n",
    "Voici quelques éléments vous permettant de commencer l’analyse.\n",
    "\n",
    "Les sportifs s’inscrivent à une compétition. Lors de cette inscription on enregistre son nom, son prénom, son adresse et ses coordonnées téléphoniques, fax et e-mail. Il se voient attribuer un numéro de dossard dans cette compétition, qui servira aussi à retrouver son dossier d’inscription.\n",
    "\n",
    "Attention: un sportif peut être licencié à la fédération via un club ou pas, les amateurs sont parfois autorisés à courir. C’est pourquoi, pour un sportif licencié, on enregistre bien sûr son numéro de licence et son club, tandis que, pour un sportif amateur, on exigera seulement un certificat médical, daté de moins de trois mois, délivré par un médecin du sport pour des questions d’assurance.\n",
    "\n",
    "Une compétition a lieu à une certaine date dans une certaine ville et porte éventuellement un libellé comme «Grand prix de printemps». Chaque compétition est composée d’un certain nombre d’épreuves effectuées dans un certain ordre : pour certaines compétitions, il y a d’abord une épreuve de 3 km de natation suivie de 50km à bicyclette et enfin 20 km de course à pied; pour d’autres, cela commencera par une escalade d’un mur de niveau 3, continuera par une randonnée pédestre de 10 km et se terminera par un parcours en traîneau tiré par des chiens... Bref, chaque épreuve est d’un certains type et il faut spécifier alors sa distance et les conditions de réalisation.\n",
    "\n",
    "Travail à faire:\n",
    "- Créer le dictionnaire des données\n",
    "- Créer le Modèle Conceptuel de Données\n",
    "- Concevoir le Modèle Logique de Données\n",
    "- Concevoir le Modèle Relationnel des Données"
   ]
  },
  {
   "cell_type": "markdown",
   "metadata": {},
   "source": [
    "# 1) Dictionnaire des données\n",
    "| Nom | Type | Descriptif |\n",
    "|----------|---------------|-------|\n",
    "| libellé_compétition | chaîne de caractères(50) | Nom de la compétition |\n",
    "| date_compétition | date | Date de la compétition |\n",
    "| ville_compétition | chaîne de caractères(50) | Lieu de la compétition |\n",
    "| nombre_épreuves | entier | Nombre d'épreuves dans une compétition |\n",
    "| nom_sportif | chaîne de caractères(50) | Nom du sportif |\n",
    "| prénom_sportif | chaîne de caractères(50) | Prénom du sportif |\n",
    "| adresse_sportif | chaîne de caractères(200) | Adresse du sportif |\n",
    "| code_postal_sportif | chaîne de caractères(5) | Code postal du sportif |\n",
    "| ville_sportif | chaîne de caractères(50) | Ville du sportif |\n",
    "| fax_sportif | chaîne de caractères(15) | Numéro de fax du sportif |\n",
    "| tel_sportif | chaîne de caractères(15) | Numéro de téléphone du sportif |\n",
    "| email_sportif | chaîne de caractères(50) | Courriel du sportif |\n",
    "| num_dossard | entier | Numéro de dossard du sportif dans une compétition |\n",
    "| libellé_épreuve | chaîne de caractères(50) | Nom de l'épreuve |\n",
    "| type_épreuve | chaîne de caractères(50) | Type d'épreuve (course, natation...) |\n",
    "| distance_épreuve | décimal | Distance d'une épreuve (en km) |\n",
    "| descriptif_épreuve | chaîne de caractères(200) | Descriptif de l'épreuve (avec ses conditions) |\n",
    "| num_licence | chaîne de caractères(50) | Numéro de licence du sportif professionnel |\n",
    "| nom_club | chaîne de caractères(50) | Nom du club dont dépend le sportif professionnel |\n",
    "| date_certificat_médical | date | Date du certificat médical pour le sportif amateur |\n",
    "| médecin_traitant | chaîne de caractères(50) | Nom du médecin traitant ayant délivré le certificat |"
   ]
  },
  {
   "cell_type": "markdown",
   "metadata": {},
   "source": [
    "# 2) Modèle conceptuel des données\n",
    "![2ModeleConceptuel.png](2ModeleConceptuel.png)"
   ]
  },
  {
   "cell_type": "markdown",
   "metadata": {},
   "source": [
    "# 3) Modèle logique des données\n",
    "![3ModeleLogique.png](3ModeleLogique.png)"
   ]
  },
  {
   "cell_type": "markdown",
   "metadata": {},
   "source": [
    "# 4) Modèle relationnel des données\n",
    "\n",
    "Sportif(<ins>SP_id</ins>, SP_nom, SP_prénom, SP_adresse, SP_cp, SP_adresse, SP_fax, SP_tel, SP_email)\n",
    "\n",
    "Compétition(<ins>CO_id</ins>, CO_libellé, CO_date, CO_ville, CO_nb_epreuves)\n",
    "\n",
    "Inscription(<ins>#SP_id</ins>, <ins>#CO_id</ins>, IN_dossard)\n",
    "\n",
    "Epreuve(<ins>EP_id</ins>, EP_libellé, EP_type, EP_distance, EP_descriptif)\n",
    "\n",
    "Constitution(<ins>#CO_id</ins>, <ins>#EP_id</ins>)\n",
    "\n",
    "CertificatMédical(<ins>CM_id</ins>, CM_date, CM_medecin, #SP_id)\n",
    "\n",
    "Club(<ins>CL_id</ins>, CL_nom)\n",
    "\n",
    "Appartenance(<ins>#SP_id</ins>, <ins>#CL_id</ins>)"
   ]
  },
  {
   "cell_type": "code",
   "execution_count": null,
   "metadata": {},
   "outputs": [],
   "source": []
  }
 ],
 "metadata": {
  "kernelspec": {
   "display_name": "Python 3",
   "language": "python",
   "name": "python3"
  },
  "language_info": {
   "codemirror_mode": {
    "name": "ipython",
    "version": 3
   },
   "file_extension": ".py",
   "mimetype": "text/x-python",
   "name": "python",
   "nbconvert_exporter": "python",
   "pygments_lexer": "ipython3",
   "version": "3.7.7"
  }
 },
 "nbformat": 4,
 "nbformat_minor": 4
}
